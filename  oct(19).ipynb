{
 "cells": [
  {
   "cell_type": "markdown",
   "id": "b7f6c48a",
   "metadata": {},
   "source": [
    "## 1). a) Document today’s class with proper explanation using markdown, comments, examples and code.\n",
    " \n",
    " ## b)  Use help() to understand each parameter of all the string methods that were covered in class so far. Document the same with different examples with proper explanation of what the method does and its parameters.\n"
   ]
  },
  {
   "cell_type": "markdown",
   "id": "02f1058b",
   "metadata": {},
   "source": [
    "### find()\n",
    " \n",
    " When there is string  you want to find it then we use find() method and get the eaxct index value.\n",
    "\n",
    "If you want to find a alphabet in a string,if that alphabet is not present in the string then output will be '-1'."
   ]
  },
  {
   "cell_type": "markdown",
   "id": "71c074e6",
   "metadata": {},
   "source": [
    "### Syntax of str.find():"
   ]
  },
  {
   "cell_type": "code",
   "execution_count": null,
   "id": "8ebcf73c",
   "metadata": {},
   "outputs": [],
   "source": [
    "    S.find(sub[, start[, end]])\n",
    "\n",
    "where,"
   ]
  },
  {
   "cell_type": "markdown",
   "id": "ee057f63",
   "metadata": {},
   "source": [
    "    sub : sub-string\n",
    "    start : from the starting of index postion\n",
    "    end : till upto the index position\n",
    "    returns the lowest index in a S where a sub-string is found in the format of S[start.end].\n",
    "    return -1 on failure"
   ]
  },
  {
   "cell_type": "code",
   "execution_count": 8,
   "id": "36bd270d",
   "metadata": {},
   "outputs": [
    {
     "data": {
      "text/plain": [
       "\"peter piper picked a peak of pickled peppers.\\npeck of pickled peppers iper picked.\\npeter piper picked a peak of pickled peppers,\\nwhere's the peak of pickled peppers peter piper picked\\n\""
      ]
     },
     "execution_count": 8,
     "metadata": {},
     "output_type": "execute_result"
    }
   ],
   "source": [
    "tt ='''peter piper picked a peak of pickled peppers.\n",
    "peck of pickled peppers iper picked.\n",
    "peter piper picked a peak of pickled peppers,\n",
    "where's the peak of pickled peppers peter piper picked\n",
    "'''\n",
    "tt"
   ]
  },
  {
   "cell_type": "code",
   "execution_count": 3,
   "id": "2cddf680",
   "metadata": {},
   "outputs": [
    {
     "data": {
      "text/plain": [
       "19"
      ]
     },
     "execution_count": 3,
     "metadata": {},
     "output_type": "execute_result"
    }
   ],
   "source": [
    "tt.find('a')"
   ]
  },
  {
   "cell_type": "code",
   "execution_count": 4,
   "id": "840b8065",
   "metadata": {},
   "outputs": [
    {
     "data": {
      "text/plain": [
       "23"
      ]
     },
     "execution_count": 4,
     "metadata": {},
     "output_type": "execute_result"
    }
   ],
   "source": [
    "tt.find('a',20)"
   ]
  },
  {
   "cell_type": "code",
   "execution_count": 5,
   "id": "ae760d10",
   "metadata": {},
   "outputs": [
    {
     "data": {
      "text/plain": [
       "-1"
      ]
     },
     "execution_count": 5,
     "metadata": {},
     "output_type": "execute_result"
    }
   ],
   "source": [
    "tt.find('a',0,10)"
   ]
  },
  {
   "cell_type": "code",
   "execution_count": 6,
   "id": "2c1c7439",
   "metadata": {},
   "outputs": [
    {
     "name": "stdout",
     "output_type": "stream",
     "text": [
      "Help on method_descriptor:\n",
      "\n",
      "find(...)\n",
      "    S.find(sub[, start[, end]]) -> int\n",
      "    \n",
      "    Return the lowest index in S where substring sub is found,\n",
      "    such that sub is contained within S[start:end].  Optional\n",
      "    arguments start and end are interpreted as in slice notation.\n",
      "    \n",
      "    Return -1 on failure.\n",
      "\n"
     ]
    }
   ],
   "source": [
    "help(str.find)"
   ]
  },
  {
   "cell_type": "markdown",
   "id": "111e273e",
   "metadata": {},
   "source": [
    "###  rfind()\n",
    "\n",
    "It is same as find() method but it will get the index value from right side of the string.\n",
    "\n",
    "string rfind refers to the operation of searching for a specific sequence of characters (substring) within a larger text or string, but it starts the search from the end of the string and works backward.\n",
    "\n",
    "When you use string find, to an program or to computer program to check the last occurrence of a particular set of characters in a given text and report its position (index) within the text.\n",
    "\n",
    "If the substring is found multiple times, it will return the position of the last occurrence."
   ]
  },
  {
   "cell_type": "markdown",
   "id": "ff9f2b9e",
   "metadata": {},
   "source": [
    "### syntax of string_rfind() :"
   ]
  },
  {
   "cell_type": "markdown",
   "id": "37f9adbf",
   "metadata": {},
   "source": [
    "    S.rfind(sub[, start[, end]])\n",
    "  \n",
    " where,"
   ]
  },
  {
   "cell_type": "markdown",
   "id": "9df3c9a6",
   "metadata": {},
   "source": [
    "sub : sub-string\n",
    "\n",
    "start : from the starting of index position\n",
    "\n",
    "end : till upto the index position\n",
    "\n",
    "Return the highest index in S where substring sub is found, such that sub is contained within S[start:end].\n",
    "\n",
    "Return -1 on failure."
   ]
  },
  {
   "cell_type": "code",
   "execution_count": 12,
   "id": "4d103256",
   "metadata": {},
   "outputs": [
    {
     "name": "stdout",
     "output_type": "stream",
     "text": [
      "Help on method_descriptor:\n",
      "\n",
      "rfind(...)\n",
      "    S.rfind(sub[, start[, end]]) -> int\n",
      "    \n",
      "    Return the highest index in S where substring sub is found,\n",
      "    such that sub is contained within S[start:end].  Optional\n",
      "    arguments start and end are interpreted as in slice notation.\n",
      "    \n",
      "    Return -1 on failure.\n",
      "\n"
     ]
    }
   ],
   "source": [
    "help(str.rfind)"
   ]
  },
  {
   "cell_type": "code",
   "execution_count": 13,
   "id": "2c9cfa1c",
   "metadata": {},
   "outputs": [
    {
     "data": {
      "text/plain": [
       "143"
      ]
     },
     "execution_count": 13,
     "metadata": {},
     "output_type": "execute_result"
    }
   ],
   "source": [
    "tt.rfind('a')"
   ]
  },
  {
   "cell_type": "code",
   "execution_count": 15,
   "id": "65373b0c",
   "metadata": {},
   "outputs": [
    {
     "data": {
      "text/plain": [
       "106"
      ]
     },
     "execution_count": 15,
     "metadata": {},
     "output_type": "execute_result"
    }
   ],
   "source": [
    "tt.rfind('a',12,140)"
   ]
  },
  {
   "cell_type": "markdown",
   "id": "f2cc3442",
   "metadata": {},
   "source": [
    "### The main difference between the find and rfind as following :\n",
    "\n",
    "find - moves from left to right, and retruns the lowest index in the given string\n",
    "rfind - moves from right to left, and retruns the highest index in the given string"
   ]
  },
  {
   "cell_type": "markdown",
   "id": "5ecc57a9",
   "metadata": {},
   "source": [
    "### Count()\n",
    "\n",
    "Count() : It  counts the token in a string that how many times repeated.\n",
    "\n",
    "string count refers to the operation of counting how many times a specific substring appears within a larger text or string.\n",
    "\n",
    "When you use string count, to an program or to computer program to check for a certain sequence of characters within a given text and then return the number of times that sequence is found."
   ]
  },
  {
   "cell_type": "markdown",
   "id": "51a8b217",
   "metadata": {},
   "source": [
    "### Syntax of str.count() :\n",
    "\n",
    "S.count(sub[,start[,end]])"
   ]
  },
  {
   "cell_type": "markdown",
   "id": "c2ef3aca",
   "metadata": {},
   "source": [
    "sub : sub-string\n",
    "\n",
    "start : from the starting of index position\n",
    "\n",
    "end : till upto the index position\n",
    "\n",
    "Return the number of non-overlapping occurrences of substring sub in string S[start:end].\n",
    "\n",
    "return 0 on failure."
   ]
  },
  {
   "cell_type": "code",
   "execution_count": 9,
   "id": "60370287",
   "metadata": {},
   "outputs": [
    {
     "data": {
      "text/plain": [
       "3"
      ]
     },
     "execution_count": 9,
     "metadata": {},
     "output_type": "execute_result"
    }
   ],
   "source": [
    "tt.count('peter')"
   ]
  },
  {
   "cell_type": "code",
   "execution_count": 11,
   "id": "fcc3b31d",
   "metadata": {},
   "outputs": [
    {
     "data": {
      "text/plain": [
       "34"
      ]
     },
     "execution_count": 11,
     "metadata": {},
     "output_type": "execute_result"
    }
   ],
   "source": [
    "tt.count('p')"
   ]
  },
  {
   "cell_type": "code",
   "execution_count": 8,
   "id": "2470ca45",
   "metadata": {},
   "outputs": [
    {
     "name": "stdout",
     "output_type": "stream",
     "text": [
      "Help on built-in function count:\n",
      "\n",
      "count(...) method of builtins.str instance\n",
      "    S.count(sub[, start[, end]]) -> int\n",
      "    \n",
      "    Return the number of non-overlapping occurrences of substring sub in\n",
      "    string S[start:end].  Optional arguments start and end are\n",
      "    interpreted as in slice notation.\n",
      "\n"
     ]
    }
   ],
   "source": [
    "help(tt.count)"
   ]
  },
  {
   "cell_type": "markdown",
   "id": "fa6beb00",
   "metadata": {},
   "source": [
    "### Index()\n",
    "\n",
    "When there is string  you want to find it then we use index() method and get the eaxct index value.\n",
    "\n",
    "If you want to find a alphabet in a string, if that alphabet is not present in the string then output will be '-1'.\n",
    "\n",
    "### Syntax :\n",
    "\n",
    " list.index(elmnt)"
   ]
  },
  {
   "cell_type": "code",
   "execution_count": 9,
   "id": "96b78a1b",
   "metadata": {},
   "outputs": [
    {
     "data": {
      "text/plain": [
       "19"
      ]
     },
     "execution_count": 9,
     "metadata": {},
     "output_type": "execute_result"
    }
   ],
   "source": [
    "tt.index('a')"
   ]
  },
  {
   "cell_type": "code",
   "execution_count": 6,
   "id": "608520ea",
   "metadata": {},
   "outputs": [
    {
     "name": "stdout",
     "output_type": "stream",
     "text": [
      "Help on method_descriptor:\n",
      "\n",
      "index(...)\n",
      "    S.index(sub[, start[, end]]) -> int\n",
      "    \n",
      "    Return the lowest index in S where substring sub is found,\n",
      "    such that sub is contained within S[start:end].  Optional\n",
      "    arguments start and end are interpreted as in slice notation.\n",
      "    \n",
      "    Raises ValueError when the substring is not found.\n",
      "\n"
     ]
    }
   ],
   "source": [
    "help(str.index)"
   ]
  },
  {
   "cell_type": "markdown",
   "id": "fd11c169",
   "metadata": {},
   "source": [
    "### rindex()\n",
    "\n",
    "The rindex() method finds the last occurrence of the specified value.\n",
    "\n",
    "The rindex() method raises an exception if the value is not found.\n",
    "\n",
    "The rindex() method is almost the same as the rfind() method."
   ]
  },
  {
   "cell_type": "markdown",
   "id": "96404d57",
   "metadata": {},
   "source": [
    "### syntax : strting.rindex(sub[, start[, end]])"
   ]
  },
  {
   "cell_type": "code",
   "execution_count": 9,
   "id": "ae71cbdc",
   "metadata": {},
   "outputs": [
    {
     "name": "stdout",
     "output_type": "stream",
     "text": [
      "Help on built-in function rindex:\n",
      "\n",
      "rindex(...) method of builtins.str instance\n",
      "    S.rindex(sub[, start[, end]]) -> int\n",
      "    \n",
      "    Return the highest index in S where substring sub is found,\n",
      "    such that sub is contained within S[start:end].  Optional\n",
      "    arguments start and end are interpreted as in slice notation.\n",
      "    \n",
      "    Raises ValueError when the substring is not found.\n",
      "\n"
     ]
    }
   ],
   "source": [
    "help(tt.rindex)"
   ]
  },
  {
   "cell_type": "code",
   "execution_count": 10,
   "id": "9656a6d6",
   "metadata": {},
   "outputs": [
    {
     "data": {
      "text/plain": [
       "143"
      ]
     },
     "execution_count": 10,
     "metadata": {},
     "output_type": "execute_result"
    }
   ],
   "source": [
    "tt.rindex('a')"
   ]
  },
  {
   "cell_type": "markdown",
   "id": "c8bb101a",
   "metadata": {},
   "source": [
    "### Replace()\n",
    "\n",
    "The replace() method replaces a specified character (or) string with another specified character (or) string."
   ]
  },
  {
   "cell_type": "code",
   "execution_count": 8,
   "id": "6c7a8ea7",
   "metadata": {},
   "outputs": [],
   "source": [
    "m = 'malayalam'"
   ]
  },
  {
   "cell_type": "code",
   "execution_count": 14,
   "id": "ee7203b7",
   "metadata": {},
   "outputs": [
    {
     "name": "stdout",
     "output_type": "stream",
     "text": [
      "Help on built-in function replace:\n",
      "\n",
      "replace(old, new, count=-1, /) method of builtins.str instance\n",
      "    Return a copy with all occurrences of substring old replaced by new.\n",
      "    \n",
      "      count\n",
      "        Maximum number of occurrences to replace.\n",
      "        -1 (the default value) means replace all occurrences.\n",
      "    \n",
      "    If the optional argument count is given, only the first count occurrences are\n",
      "    replaced.\n",
      "\n"
     ]
    }
   ],
   "source": [
    "help(m.replace)"
   ]
  },
  {
   "cell_type": "markdown",
   "id": "f1bc46e3",
   "metadata": {},
   "source": [
    "old: This is the substring you want to find and replace within the original string. All occurrences of this substring will be replaced with the \"new\" string.\n",
    "\n",
    "new: This is the string that will replace all occurrences of the \"old\" substring in the original string.\n",
    "\n",
    "count (optional): This parameter specifies the maximum number of occurrences to replace. It is an integer value, and by default, it is set to -1, which means that all occurrences will be replaced. If you provide a positive integer for count, the function will only replace that many occurrences. If you provide 0 as the value for count, the function will not perform any replacements."
   ]
  },
  {
   "cell_type": "code",
   "execution_count": 15,
   "id": "ad1ce13b",
   "metadata": {},
   "outputs": [
    {
     "data": {
      "text/plain": [
       "'MalayalaM'"
      ]
     },
     "execution_count": 15,
     "metadata": {},
     "output_type": "execute_result"
    }
   ],
   "source": [
    "m.replace('m','M')"
   ]
  },
  {
   "cell_type": "code",
   "execution_count": 16,
   "id": "51a2b6dd",
   "metadata": {},
   "outputs": [
    {
     "data": {
      "text/plain": [
       "'maLayaLam'"
      ]
     },
     "execution_count": 16,
     "metadata": {},
     "output_type": "execute_result"
    }
   ],
   "source": [
    "m.replace('l','L')"
   ]
  },
  {
   "cell_type": "code",
   "execution_count": 18,
   "id": "e01903e6",
   "metadata": {},
   "outputs": [
    {
     "data": {
      "text/plain": [
       "'mAlayalam'"
      ]
     },
     "execution_count": 18,
     "metadata": {},
     "output_type": "execute_result"
    }
   ],
   "source": [
    "m.replace('a','A',1)"
   ]
  },
  {
   "cell_type": "markdown",
   "id": "a4bff2c3",
   "metadata": {},
   "source": [
    "### Split\n",
    "\n",
    "The split() function means it will give the each and every string into the new line."
   ]
  },
  {
   "cell_type": "code",
   "execution_count": 4,
   "id": "b60bf085",
   "metadata": {},
   "outputs": [
    {
     "data": {
      "text/plain": [
       "['peter',\n",
       " 'piper',\n",
       " 'picked',\n",
       " 'a',\n",
       " 'peak',\n",
       " 'of',\n",
       " 'pickled',\n",
       " 'peppers.',\n",
       " 'peck',\n",
       " 'of',\n",
       " 'pickled',\n",
       " 'peppers',\n",
       " 'iper',\n",
       " 'picked.',\n",
       " 'peter',\n",
       " 'piper',\n",
       " 'picked',\n",
       " 'a',\n",
       " 'peak',\n",
       " 'of',\n",
       " 'pickled',\n",
       " 'peppers,',\n",
       " \"where's\",\n",
       " 'the',\n",
       " 'peak',\n",
       " 'of',\n",
       " 'pickled',\n",
       " 'peppers',\n",
       " 'peter',\n",
       " 'piper',\n",
       " 'picked']"
      ]
     },
     "execution_count": 4,
     "metadata": {},
     "output_type": "execute_result"
    }
   ],
   "source": [
    "tt.split()"
   ]
  },
  {
   "cell_type": "code",
   "execution_count": 6,
   "id": "48b1097a",
   "metadata": {},
   "outputs": [
    {
     "data": {
      "text/plain": [
       "['peter',\n",
       " 'piper',\n",
       " 'picked',\n",
       " \"a peak of pickled peppers.\\npeck of pickled peppers iper picked.\\npeter piper picked a peak of pickled peppers,\\nwhere's the peak of pickled peppers peter piper picked\\n\"]"
      ]
     },
     "execution_count": 6,
     "metadata": {},
     "output_type": "execute_result"
    }
   ],
   "source": [
    "tt.split(' ', maxsplit = 3)"
   ]
  },
  {
   "cell_type": "markdown",
   "id": "d8bc359b",
   "metadata": {},
   "source": [
    "### rsplit()\n",
    "The rsplit() method splits a string into a list, starting from the right.\n",
    "\n",
    "The rsplit() method splits a string into a list, starting from the right. If no \"max\" is specified, this method will return the same as the split() method.\n",
    "\n",
    "Note: When maxsplit is specified, the list will contain the specified number of elements plus one."
   ]
  },
  {
   "cell_type": "code",
   "execution_count": 30,
   "id": "c31629e3",
   "metadata": {},
   "outputs": [
    {
     "data": {
      "text/plain": [
       "[\"peter piper picked a peak of pickled peppers.\\npeck of pickled peppers iper picked.\\npeter piper picked a peak of pickled peppers,\\nwhere's the peak of pickled peppers peter piper picked\\n\"]"
      ]
     },
     "execution_count": 30,
     "metadata": {},
     "output_type": "execute_result"
    }
   ],
   "source": [
    "tt.rsplit('4')"
   ]
  },
  {
   "cell_type": "code",
   "execution_count": 11,
   "id": "655684bd",
   "metadata": {},
   "outputs": [
    {
     "data": {
      "text/plain": [
       "['peter',\n",
       " 'piper',\n",
       " 'picked',\n",
       " 'a',\n",
       " \"peak of pickled peppers.\\npeck of pickled peppers iper picked.\\npeter piper picked a peak of pickled peppers,\\nwhere's the peak of pickled peppers peter piper picked\\n\"]"
      ]
     },
     "execution_count": 11,
     "metadata": {},
     "output_type": "execute_result"
    }
   ],
   "source": [
    "tt.split(maxsplit=4)"
   ]
  },
  {
   "cell_type": "code",
   "execution_count": 12,
   "id": "06aaf228",
   "metadata": {},
   "outputs": [
    {
     "data": {
      "text/plain": [
       "['how are', 'you', '?']"
      ]
     },
     "execution_count": 12,
     "metadata": {},
     "output_type": "execute_result"
    }
   ],
   "source": [
    "'how are you ?'.rsplit(maxsplit = 2)"
   ]
  },
  {
   "cell_type": "code",
   "execution_count": 13,
   "id": "0441e152",
   "metadata": {},
   "outputs": [
    {
     "data": {
      "text/plain": [
       "['how', 'are', 'you ?']"
      ]
     },
     "execution_count": 13,
     "metadata": {},
     "output_type": "execute_result"
    }
   ],
   "source": [
    "'how are you ?'.split(maxsplit = 2)"
   ]
  },
  {
   "cell_type": "markdown",
   "id": "2e8404a0",
   "metadata": {},
   "source": [
    "### splitline()\n",
    "\n",
    " It generates a list of lines from a given string. It splits a string according to the occurrence of different Line Boundaries. In the case of an empty string, it returns an empty list. In the absence of line breaks, it returns a unit-length list."
   ]
  },
  {
   "cell_type": "code",
   "execution_count": 26,
   "id": "2a7b131f",
   "metadata": {},
   "outputs": [
    {
     "data": {
      "text/plain": [
       "['peter piper picked a peak of pickled peppers.',\n",
       " 'peck of pickled peppers iper picked.',\n",
       " 'peter piper picked a peak of pickled peppers,',\n",
       " \"where's the peak of pickled peppers peter piper picked\",\n",
       " '']"
      ]
     },
     "execution_count": 26,
     "metadata": {},
     "output_type": "execute_result"
    }
   ],
   "source": [
    "tt.split('\\n')"
   ]
  },
  {
   "cell_type": "code",
   "execution_count": 27,
   "id": "7e2023bb",
   "metadata": {},
   "outputs": [
    {
     "data": {
      "text/plain": [
       "['peter piper picked a peak of pickled peppers.',\n",
       " 'peck of pickled peppers iper picked.',\n",
       " 'peter piper picked a peak of pickled peppers,',\n",
       " \"where's the peak of pickled peppers peter piper picked\"]"
      ]
     },
     "execution_count": 27,
     "metadata": {},
     "output_type": "execute_result"
    }
   ],
   "source": [
    "tt.splitlines()"
   ]
  },
  {
   "cell_type": "markdown",
   "id": "67d0bfb6",
   "metadata": {},
   "source": [
    "### keepends (optional, default=False):\n",
    "\n",
    " This is a boolean parameter that determines whether the line endings should\n",
    " be included in the resulting lines.\n",
    " \n",
    " If keepends is set to True, the line endings (e.g., newline characters,\n",
    " \"\\n\") are retained at the end of each line in the list.\n",
    " \n",
    " If it's set to False (the default), the line endings are removed from each\n",
    " line."
   ]
  },
  {
   "cell_type": "code",
   "execution_count": 13,
   "id": "3401d651",
   "metadata": {},
   "outputs": [
    {
     "name": "stdout",
     "output_type": "stream",
     "text": [
      "Brisk brave brigadiers brandished broad bright blades, \n",
      "blunderbusses, and \n",
      "bludgeons — balancing them badly\n"
     ]
    }
   ],
   "source": [
    "tounge_twister = '''Brisk brave brigadiers brandished broad bright blades, \n",
    "blunderbusses, and \n",
    "bludgeons — balancing them badly'''\n",
    "print(tounge_twister)"
   ]
  },
  {
   "cell_type": "code",
   "execution_count": 14,
   "id": "3261f3c1",
   "metadata": {},
   "outputs": [
    {
     "data": {
      "text/plain": [
       "['Brisk brave brigadiers brandished broad bright blades, ',\n",
       " 'blunderbusses, and ',\n",
       " 'bludgeons — balancing them badly']"
      ]
     },
     "execution_count": 14,
     "metadata": {},
     "output_type": "execute_result"
    }
   ],
   "source": [
    "tounge_twister.splitlines()"
   ]
  },
  {
   "cell_type": "code",
   "execution_count": 15,
   "id": "409dec5a",
   "metadata": {},
   "outputs": [
    {
     "name": "stdout",
     "output_type": "stream",
     "text": [
      "Help on method_descriptor:\n",
      "\n",
      "rfind(...)\n",
      "    S.rfind(sub[, start[, end]]) -> int\n",
      "    \n",
      "    Return the highest index in S where substring sub is found,\n",
      "    such that sub is contained within S[start:end].  Optional\n",
      "    arguments start and end are interpreted as in slice notation.\n",
      "    \n",
      "    Return -1 on failure.\n",
      "\n"
     ]
    }
   ],
   "source": [
    "help(str.rfind)"
   ]
  },
  {
   "cell_type": "code",
   "execution_count": 5,
   "id": "3471e94f",
   "metadata": {},
   "outputs": [
    {
     "name": "stdout",
     "output_type": "stream",
     "text": [
      "Help on built-in function center:\n",
      "\n",
      "center(width, fillchar=' ', /) method of builtins.str instance\n",
      "    Return a centered string of length width.\n",
      "    \n",
      "    Padding is done using the specified fill character (default is a space).\n",
      "\n"
     ]
    }
   ],
   "source": [
    "help(m.center)"
   ]
  },
  {
   "cell_type": "markdown",
   "id": "3e35adf8",
   "metadata": {},
   "source": [
    "### Partition()\n",
    "\n",
    " The partition() method searches for a specified string, and splits the\n",
    " string into a tuple containing three elements.\n",
    " \n",
    " The first element contains the part before the specified string. The second\n",
    " element contains the specified string. The third element contains the part\n",
    " after the string."
   ]
  },
  {
   "cell_type": "code",
   "execution_count": 2,
   "id": "096852d9",
   "metadata": {},
   "outputs": [
    {
     "name": "stdout",
     "output_type": "stream",
     "text": [
      "Help on method_descriptor:\n",
      "\n",
      "partition(self, sep, /)\n",
      "    Partition the string into three parts using the given separator.\n",
      "    \n",
      "    This will search for the separator in the string.  If the separator is found,\n",
      "    returns a 3-tuple containing the part before the separator, the separator\n",
      "    itself, and the part after it.\n",
      "    \n",
      "    If the separator is not found, returns a 3-tuple containing the original string\n",
      "    and two empty strings.\n",
      "\n"
     ]
    }
   ],
   "source": [
    "help(str.partition)"
   ]
  },
  {
   "cell_type": "markdown",
   "id": "c4d72dc7",
   "metadata": {},
   "source": [
    "### sep:\n",
    "\n",
    "    This is the separator that is used to split the string. The string is\n",
    "    split into three parts:\n",
    "\n",
    "        1.The part of the string before the first occurrence of \"sep.\"\n",
    "        \n",
    "        2.The \"sep\" itself.\n",
    "        \n",
    "        3.The part of the string after the first occurrence of \"sep.\""
   ]
  },
  {
   "cell_type": "code",
   "execution_count": 14,
   "id": "6c835648",
   "metadata": {},
   "outputs": [
    {
     "data": {
      "text/plain": [
       "('peter',\n",
       " ' ',\n",
       " \"piper picked a peak of pickled peppers.\\npeck of pickled peppers iper picked.\\npeter piper picked a peak of pickled peppers,\\nwhere's the peak of pickled peppers peter piper picked\\n\")"
      ]
     },
     "execution_count": 14,
     "metadata": {},
     "output_type": "execute_result"
    }
   ],
   "source": [
    "tt.partition(' ')"
   ]
  },
  {
   "cell_type": "code",
   "execution_count": 17,
   "id": "a3992b4c",
   "metadata": {},
   "outputs": [
    {
     "data": {
      "text/plain": [
       "['m', 'l', 'y', 'l', 'm']"
      ]
     },
     "execution_count": 17,
     "metadata": {},
     "output_type": "execute_result"
    }
   ],
   "source": [
    "m ='malayalam'\n",
    "m.split('a')"
   ]
  },
  {
   "cell_type": "code",
   "execution_count": 18,
   "id": "ef47ac8c",
   "metadata": {},
   "outputs": [
    {
     "data": {
      "text/plain": [
       "('m', 'a', 'layalam')"
      ]
     },
     "execution_count": 18,
     "metadata": {},
     "output_type": "execute_result"
    }
   ],
   "source": [
    "m.partition('a')"
   ]
  },
  {
   "cell_type": "code",
   "execution_count": 21,
   "id": "a76fd1fe",
   "metadata": {},
   "outputs": [
    {
     "data": {
      "text/plain": [
       "['malayalam']"
      ]
     },
     "execution_count": 21,
     "metadata": {},
     "output_type": "execute_result"
    }
   ],
   "source": [
    "m.split('z')"
   ]
  },
  {
   "cell_type": "code",
   "execution_count": 23,
   "id": "d3c3dd0e",
   "metadata": {},
   "outputs": [
    {
     "data": {
      "text/plain": [
       "('malayalam', '', '')"
      ]
     },
     "execution_count": 23,
     "metadata": {},
     "output_type": "execute_result"
    }
   ],
   "source": [
    "m.partition('z') #it will give us empty string when there is no string that u have given in input data."
   ]
  },
  {
   "cell_type": "code",
   "execution_count": 25,
   "id": "f4c53453",
   "metadata": {},
   "outputs": [
    {
     "data": {
      "text/plain": [
       "'malayalam'"
      ]
     },
     "execution_count": 25,
     "metadata": {},
     "output_type": "execute_result"
    }
   ],
   "source": [
    "m.partition('z')[0]+m.partition('z')[1]+m.partition('z')[2] #it will eliminate the empty space and check the parent node."
   ]
  },
  {
   "cell_type": "markdown",
   "id": "25f9471e",
   "metadata": {},
   "source": [
    "### rpartition() :\n",
    "\n",
    "    1.The rpartition() method searches for the last occurrence of a specified\n",
    "    string, and splits the string into a tuple containing three elements.\n",
    "    \n",
    "    2.The first element contains the part before the specified string. The\n",
    "    second element contains the specified string. The third element contains\n",
    "    the part after the string."
   ]
  },
  {
   "cell_type": "code",
   "execution_count": 6,
   "id": "537f618d",
   "metadata": {},
   "outputs": [
    {
     "data": {
      "text/plain": [
       "('malay', 'a', 'm')"
      ]
     },
     "execution_count": 6,
     "metadata": {},
     "output_type": "execute_result"
    }
   ],
   "source": [
    "m.rpartition('a')"
   ]
  },
  {
   "cell_type": "code",
   "execution_count": 7,
   "id": "6f8d03aa",
   "metadata": {},
   "outputs": [
    {
     "data": {
      "text/plain": [
       "('', '', 'malayam')"
      ]
     },
     "execution_count": 7,
     "metadata": {},
     "output_type": "execute_result"
    }
   ],
   "source": [
    "m.rpartition('z')"
   ]
  }
 ],
 "metadata": {
  "kernelspec": {
   "display_name": "Python 3 (ipykernel)",
   "language": "python",
   "name": "python3"
  },
  "language_info": {
   "codemirror_mode": {
    "name": "ipython",
    "version": 3
   },
   "file_extension": ".py",
   "mimetype": "text/x-python",
   "name": "python",
   "nbconvert_exporter": "python",
   "pygments_lexer": "ipython3",
   "version": "3.11.5"
  }
 },
 "nbformat": 4,
 "nbformat_minor": 5
}
